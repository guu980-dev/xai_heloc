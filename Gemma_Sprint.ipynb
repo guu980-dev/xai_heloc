{
  "cells": [
    {
      "cell_type": "code",
      "execution_count": 4,
      "metadata": {
        "colab": {
          "base_uri": "https://localhost:8080/"
        },
        "id": "4gKrGLQh8Fni",
        "outputId": "4c5b7dee-5d63-414a-8fca-2a8face2e769"
      },
      "outputs": [
        {
          "name": "stdout",
          "output_type": "stream",
          "text": [
            "Requirement already satisfied: xgboost in /root/miniconda3/envs/heloc/lib/python3.11/site-packages (2.1.1)\n",
            "Requirement already satisfied: numpy in /root/miniconda3/envs/heloc/lib/python3.11/site-packages (from xgboost) (2.0.2)\n",
            "Requirement already satisfied: nvidia-nccl-cu12 in /root/miniconda3/envs/heloc/lib/python3.11/site-packages (from xgboost) (2.20.5)\n",
            "Requirement already satisfied: scipy in /root/miniconda3/envs/heloc/lib/python3.11/site-packages (from xgboost) (1.14.1)\n",
            "\u001b[33mWARNING: Running pip as the 'root' user can result in broken permissions and conflicting behaviour with the system package manager, possibly rendering your system unusable.It is recommended to use a virtual environment instead: https://pip.pypa.io/warnings/venv. Use the --root-user-action option if you know what you are doing and want to suppress this warning.\u001b[0m\u001b[33m\n",
            "\u001b[0mRequirement already satisfied: shap in /root/miniconda3/envs/heloc/lib/python3.11/site-packages (0.46.0)\n",
            "Requirement already satisfied: numpy in /root/miniconda3/envs/heloc/lib/python3.11/site-packages (from shap) (2.0.2)\n",
            "Requirement already satisfied: scipy in /root/miniconda3/envs/heloc/lib/python3.11/site-packages (from shap) (1.14.1)\n",
            "Requirement already satisfied: scikit-learn in /root/miniconda3/envs/heloc/lib/python3.11/site-packages (from shap) (1.5.2)\n",
            "Requirement already satisfied: pandas in /root/miniconda3/envs/heloc/lib/python3.11/site-packages (from shap) (2.2.3)\n",
            "Requirement already satisfied: tqdm>=4.27.0 in /root/miniconda3/envs/heloc/lib/python3.11/site-packages (from shap) (4.66.5)\n",
            "Requirement already satisfied: packaging>20.9 in /root/miniconda3/envs/heloc/lib/python3.11/site-packages (from shap) (24.1)\n",
            "Requirement already satisfied: slicer==0.0.8 in /root/miniconda3/envs/heloc/lib/python3.11/site-packages (from shap) (0.0.8)\n",
            "Requirement already satisfied: numba in /root/miniconda3/envs/heloc/lib/python3.11/site-packages (from shap) (0.60.0)\n",
            "Requirement already satisfied: cloudpickle in /root/miniconda3/envs/heloc/lib/python3.11/site-packages (from shap) (3.0.0)\n",
            "Requirement already satisfied: llvmlite<0.44,>=0.43.0dev0 in /root/miniconda3/envs/heloc/lib/python3.11/site-packages (from numba->shap) (0.43.0)\n",
            "Requirement already satisfied: python-dateutil>=2.8.2 in /root/miniconda3/envs/heloc/lib/python3.11/site-packages (from pandas->shap) (2.9.0)\n",
            "Requirement already satisfied: pytz>=2020.1 in /root/miniconda3/envs/heloc/lib/python3.11/site-packages (from pandas->shap) (2024.2)\n",
            "Requirement already satisfied: tzdata>=2022.7 in /root/miniconda3/envs/heloc/lib/python3.11/site-packages (from pandas->shap) (2024.2)\n",
            "Requirement already satisfied: joblib>=1.2.0 in /root/miniconda3/envs/heloc/lib/python3.11/site-packages (from scikit-learn->shap) (1.4.2)\n",
            "Requirement already satisfied: threadpoolctl>=3.1.0 in /root/miniconda3/envs/heloc/lib/python3.11/site-packages (from scikit-learn->shap) (3.5.0)\n",
            "Requirement already satisfied: six>=1.5 in /root/miniconda3/envs/heloc/lib/python3.11/site-packages (from python-dateutil>=2.8.2->pandas->shap) (1.16.0)\n",
            "\u001b[33mWARNING: Running pip as the 'root' user can result in broken permissions and conflicting behaviour with the system package manager, possibly rendering your system unusable.It is recommended to use a virtual environment instead: https://pip.pypa.io/warnings/venv. Use the --root-user-action option if you know what you are doing and want to suppress this warning.\u001b[0m\u001b[33m\n",
            "\u001b[0mRequirement already satisfied: lime in /root/miniconda3/envs/heloc/lib/python3.11/site-packages (0.2.0.1)\n",
            "Requirement already satisfied: matplotlib in /root/miniconda3/envs/heloc/lib/python3.11/site-packages (from lime) (3.9.2)\n",
            "Requirement already satisfied: numpy in /root/miniconda3/envs/heloc/lib/python3.11/site-packages (from lime) (2.0.2)\n",
            "Requirement already satisfied: scipy in /root/miniconda3/envs/heloc/lib/python3.11/site-packages (from lime) (1.14.1)\n",
            "Requirement already satisfied: tqdm in /root/miniconda3/envs/heloc/lib/python3.11/site-packages (from lime) (4.66.5)\n",
            "Requirement already satisfied: scikit-learn>=0.18 in /root/miniconda3/envs/heloc/lib/python3.11/site-packages (from lime) (1.5.2)\n",
            "Requirement already satisfied: scikit-image>=0.12 in /root/miniconda3/envs/heloc/lib/python3.11/site-packages (from lime) (0.24.0)\n",
            "Requirement already satisfied: networkx>=2.8 in /root/miniconda3/envs/heloc/lib/python3.11/site-packages (from scikit-image>=0.12->lime) (3.3)\n",
            "Requirement already satisfied: pillow>=9.1 in /root/miniconda3/envs/heloc/lib/python3.11/site-packages (from scikit-image>=0.12->lime) (10.4.0)\n",
            "Requirement already satisfied: imageio>=2.33 in /root/miniconda3/envs/heloc/lib/python3.11/site-packages (from scikit-image>=0.12->lime) (2.35.1)\n",
            "Requirement already satisfied: tifffile>=2022.8.12 in /root/miniconda3/envs/heloc/lib/python3.11/site-packages (from scikit-image>=0.12->lime) (2024.9.20)\n",
            "Requirement already satisfied: packaging>=21 in /root/miniconda3/envs/heloc/lib/python3.11/site-packages (from scikit-image>=0.12->lime) (24.1)\n",
            "Requirement already satisfied: lazy-loader>=0.4 in /root/miniconda3/envs/heloc/lib/python3.11/site-packages (from scikit-image>=0.12->lime) (0.4)\n",
            "Requirement already satisfied: joblib>=1.2.0 in /root/miniconda3/envs/heloc/lib/python3.11/site-packages (from scikit-learn>=0.18->lime) (1.4.2)\n",
            "Requirement already satisfied: threadpoolctl>=3.1.0 in /root/miniconda3/envs/heloc/lib/python3.11/site-packages (from scikit-learn>=0.18->lime) (3.5.0)\n",
            "Requirement already satisfied: contourpy>=1.0.1 in /root/miniconda3/envs/heloc/lib/python3.11/site-packages (from matplotlib->lime) (1.3.0)\n",
            "Requirement already satisfied: cycler>=0.10 in /root/miniconda3/envs/heloc/lib/python3.11/site-packages (from matplotlib->lime) (0.12.1)\n",
            "Requirement already satisfied: fonttools>=4.22.0 in /root/miniconda3/envs/heloc/lib/python3.11/site-packages (from matplotlib->lime) (4.54.1)\n",
            "Requirement already satisfied: kiwisolver>=1.3.1 in /root/miniconda3/envs/heloc/lib/python3.11/site-packages (from matplotlib->lime) (1.4.7)\n",
            "Requirement already satisfied: pyparsing>=2.3.1 in /root/miniconda3/envs/heloc/lib/python3.11/site-packages (from matplotlib->lime) (3.1.4)\n",
            "Requirement already satisfied: python-dateutil>=2.7 in /root/miniconda3/envs/heloc/lib/python3.11/site-packages (from matplotlib->lime) (2.9.0)\n",
            "Requirement already satisfied: six>=1.5 in /root/miniconda3/envs/heloc/lib/python3.11/site-packages (from python-dateutil>=2.7->matplotlib->lime) (1.16.0)\n",
            "\u001b[33mWARNING: Running pip as the 'root' user can result in broken permissions and conflicting behaviour with the system package manager, possibly rendering your system unusable.It is recommended to use a virtual environment instead: https://pip.pypa.io/warnings/venv. Use the --root-user-action option if you know what you are doing and want to suppress this warning.\u001b[0m\u001b[33m\n",
            "\u001b[0m"
          ]
        }
      ],
      "source": [
        "!pip install xgboost\n",
        "!pip install shap\n",
        "!pip install lime"
      ]
    },
    {
      "cell_type": "code",
      "execution_count": 5,
      "metadata": {
        "id": "s6MWZ-Ix8fRe"
      },
      "outputs": [],
      "source": [
        "import pandas as pd\n",
        "import xgboost as xgb\n",
        "import numpy as np\n",
        "from sklearn.model_selection import train_test_split\n",
        "from sklearn.metrics import accuracy_score, roc_auc_score\n",
        "import matplotlib.pyplot as plt\n",
        "import shap\n",
        "import lime\n",
        "import lime.lime_tabular"
      ]
    },
    {
      "cell_type": "code",
      "execution_count": 6,
      "metadata": {
        "id": "wHOh3a9X8hul"
      },
      "outputs": [],
      "source": [
        "df = pd.read_csv('dataset/heloc.csv')"
      ]
    },
    {
      "cell_type": "code",
      "execution_count": 7,
      "metadata": {
        "colab": {
          "base_uri": "https://localhost:8080/"
        },
        "id": "LxKILRMu8mgA",
        "outputId": "2d1363cc-fdd9-4bbc-c971-bdf949b4f090"
      },
      "outputs": [
        {
          "name": "stdout",
          "output_type": "stream",
          "text": [
            "<class 'pandas.core.frame.DataFrame'>\n",
            "RangeIndex: 10459 entries, 0 to 10458\n",
            "Data columns (total 24 columns):\n",
            " #   Column                              Non-Null Count  Dtype \n",
            "---  ------                              --------------  ----- \n",
            " 0   RiskPerformance                     10459 non-null  object\n",
            " 1   ExternalRiskEstimate                10459 non-null  int64 \n",
            " 2   MSinceOldestTradeOpen               10459 non-null  int64 \n",
            " 3   MSinceMostRecentTradeOpen           10459 non-null  int64 \n",
            " 4   AverageMInFile                      10459 non-null  int64 \n",
            " 5   NumSatisfactoryTrades               10459 non-null  int64 \n",
            " 6   NumTrades60Ever2DerogPubRec         10459 non-null  int64 \n",
            " 7   NumTrades90Ever2DerogPubRec         10459 non-null  int64 \n",
            " 8   PercentTradesNeverDelq              10459 non-null  int64 \n",
            " 9   MSinceMostRecentDelq                10459 non-null  int64 \n",
            " 10  MaxDelq2PublicRecLast12M            10459 non-null  int64 \n",
            " 11  MaxDelqEver                         10459 non-null  int64 \n",
            " 12  NumTotalTrades                      10459 non-null  int64 \n",
            " 13  NumTradesOpeninLast12M              10459 non-null  int64 \n",
            " 14  PercentInstallTrades                10459 non-null  int64 \n",
            " 15  MSinceMostRecentInqexcl7days        10459 non-null  int64 \n",
            " 16  NumInqLast6M                        10459 non-null  int64 \n",
            " 17  NumInqLast6Mexcl7days               10459 non-null  int64 \n",
            " 18  NetFractionRevolvingBurden          10459 non-null  int64 \n",
            " 19  NetFractionInstallBurden            10459 non-null  int64 \n",
            " 20  NumRevolvingTradesWBalance          10459 non-null  int64 \n",
            " 21  NumInstallTradesWBalance            10459 non-null  int64 \n",
            " 22  NumBank2NatlTradesWHighUtilization  10459 non-null  int64 \n",
            " 23  PercentTradesWBalance               10459 non-null  int64 \n",
            "dtypes: int64(23), object(1)\n",
            "memory usage: 1.9+ MB\n"
          ]
        }
      ],
      "source": [
        "df.info()"
      ]
    },
    {
      "cell_type": "code",
      "execution_count": 8,
      "metadata": {
        "colab": {
          "base_uri": "https://localhost:8080/"
        },
        "id": "qshEgOBO8nt0",
        "outputId": "cd1cd0e8-9463-4d7c-c714-00d18769c2b7"
      },
      "outputs": [
        {
          "name": "stderr",
          "output_type": "stream",
          "text": [
            "/root/miniconda3/envs/heloc/lib/python3.11/site-packages/xgboost/core.py:158: UserWarning: [12:22:08] WARNING: /workspace/src/learner.cc:740: \n",
            "Parameters: { \"silent\" } are not used.\n",
            "\n",
            "  warnings.warn(smsg, UserWarning)\n",
            "/root/miniconda3/envs/heloc/lib/python3.11/site-packages/xgboost/core.py:158: UserWarning: [12:22:09] WARNING: /workspace/src/learner.cc:740: \n",
            "Parameters: { \"silent\" } are not used.\n",
            "\n",
            "  warnings.warn(smsg, UserWarning)\n",
            "/root/miniconda3/envs/heloc/lib/python3.11/site-packages/xgboost/core.py:158: UserWarning: [12:22:16] WARNING: /workspace/src/learner.cc:740: \n",
            "Parameters: { \"silent\" } are not used.\n",
            "\n",
            "  warnings.warn(smsg, UserWarning)\n"
          ]
        },
        {
          "name": "stdout",
          "output_type": "stream",
          "text": [
            "Number of boosting rounds: 95\n",
            "Training RMSE: 39.6298%\n",
            "Testing RMSE: 44.6400%\n"
          ]
        }
      ],
      "source": [
        "# 특징과 라벨 분리 (헬로크 데이터에서 y값을 'RiskPerformance'로 가정)\n",
        "X = df.drop(columns=['RiskPerformance'])  # 입력 변수\n",
        "y = df['RiskPerformance'].apply(lambda x: 1 if x == 'Bad' else 0)  # 'Bad'를 1로, 'Good'을 0으로 변환\n",
        "\n",
        "# 학습/테스트 데이터 분리\n",
        "x_train, x_test, y_train, y_test = train_test_split(X, y, test_size=0.2, random_state=42)\n",
        "\n",
        "# XGBoost용 데이터 형식 변환\n",
        "dtrain = xgb.DMatrix(x_train, y_train)\n",
        "dtest = xgb.DMatrix(x_test, y_test)\n",
        "\n",
        "# 기본 하이퍼파라미터 설정\n",
        "param = {'silent':True, 'objective':'binary:logistic', \"eta\":0.05, 'eval_metric': 'rmse',\n",
        "         'monotone_constraints':\"(1,1,1,1,-1,-1,1,0,0,-1,-1,-1,0,-1,0,1,1)\"}\n",
        "\n",
        "# Cross-validation으로 적절한 boosting round 찾기\n",
        "bst_cv = xgb.cv(param, dtrain, 500, nfold=10, early_stopping_rounds=10)\n",
        "\n",
        "# 모델 훈련\n",
        "evals_result = {}\n",
        "evallist  = [(dtrain, 'train'), (dtest, 'eval')]\n",
        "bst = xgb.train(param, dtrain, num_boost_round=bst_cv.shape[0], evals_result=evals_result, evals=evallist, verbose_eval=False)\n",
        "\n",
        "# 결과 출력\n",
        "print(f\"Number of boosting rounds: {len(evals_result['train']['rmse'])}\")\n",
        "print(f\"Training RMSE: {evals_result['train']['rmse'][-1]:.4%}\")\n",
        "print(f\"Testing RMSE: {evals_result['eval']['rmse'][-1]:.4%}\")\n"
      ]
    },
    {
      "cell_type": "code",
      "execution_count": 9,
      "metadata": {
        "colab": {
          "base_uri": "https://localhost:8080/"
        },
        "id": "NIk1fAfn8qHc",
        "outputId": "8b23339e-6899-4a59-8ed1-0d7ad0b8a9b3"
      },
      "outputs": [
        {
          "name": "stdout",
          "output_type": "stream",
          "text": [
            "Train accuracy: 0.7683757619218358\n",
            "Test accuracy: 0.6912045889101338\n",
            "AUC_Train: 0.8574\n",
            "AUC_Test: 0.7619\n",
            "0.4297053\n"
          ]
        }
      ],
      "source": [
        "# 모델 평가\n",
        "y_train_pred = bst.predict(dtrain)\n",
        "y_test_pred = bst.predict(dtest)\n",
        "\n",
        "predictions1 = [round(value) for value in y_train_pred]\n",
        "predictions2 = [round(value) for value in y_test_pred]\n",
        "\n",
        "print('Train accuracy:', accuracy_score(y_train, predictions1))\n",
        "print('Test accuracy:', accuracy_score(y_test, predictions2))\n",
        "\n",
        "# AUC Score 계산\n",
        "auc_train = roc_auc_score(y_train, y_train_pred)  # 확률 기반으로 AUC 계산\n",
        "auc_test = roc_auc_score(y_test, y_test_pred)\n",
        "print('AUC_Train:', auc_train.round(4))\n",
        "print('AUC_Test:', auc_test.round(4))\n",
        "\n",
        "print(y_test_pred[0])"
      ]
    },
    {
      "cell_type": "code",
      "execution_count": 10,
      "metadata": {
        "colab": {
          "base_uri": "https://localhost:8080/",
          "height": 718
        },
        "id": "H0y-xbu18tIg",
        "outputId": "85f58163-c9a1-437d-d850-e168200078ac"
      },
      "outputs": [
        {
          "data": {
            "image/png": "[encoded data removed]",
            "text/plain": [
              "<Figure size 1000x800 with 1 Axes>"
            ]
          },
          "metadata": {},
          "output_type": "display_data"
        }
      ],
      "source": [
        "# XGBoost 중요도 플롯\n",
        "plt.figure(figsize=(10,8))\n",
        "ax = plt.gca()\n",
        "xgb.plot_importance(bst, grid=False, ax=ax)\n",
        "plt.show()"
      ]
    },
    {
      "cell_type": "markdown",
      "metadata": {
        "id": "7bEqP1Pljh1_"
      },
      "source": [
        "Input my data of each feature"
      ]
    },
    {
      "cell_type": "code",
      "execution_count": 11,
      "metadata": {
        "colab": {
          "base_uri": "https://localhost:8080/"
        },
        "id": "XVWeTMnvBI5B",
        "outputId": "8a7c595f-c6c8-4f19-acb3-309ea2dfc1f6"
      },
      "outputs": [
        {
          "name": "stdout",
          "output_type": "stream",
          "text": [
            "순서대로 값을 입력해주세요\n"
          ]
        },
        {
          "ename": "ValueError",
          "evalue": "invalid literal for int() with base 10: ''",
          "output_type": "error",
          "traceback": [
            "\u001b[0;31m---------------------------------------------------------------------------\u001b[0m",
            "\u001b[0;31mValueError\u001b[0m                                Traceback (most recent call last)",
            "Cell \u001b[0;32mIn[11], line 4\u001b[0m\n\u001b[1;32m      1\u001b[0m \u001b[38;5;28mprint\u001b[39m(\u001b[38;5;124m\"\u001b[39m\u001b[38;5;124m순서대로 값을 입력해주세요\u001b[39m\u001b[38;5;124m\"\u001b[39m)\n\u001b[1;32m      2\u001b[0m data_ \u001b[38;5;241m=\u001b[39m []\n\u001b[0;32m----> 4\u001b[0m data_\u001b[38;5;241m.\u001b[39mappend(\u001b[38;5;28;43mint\u001b[39;49m\u001b[43m(\u001b[49m\u001b[38;5;28;43minput\u001b[39;49m\u001b[43m(\u001b[49m\u001b[38;5;124;43m\"\u001b[39;49m\u001b[38;5;124;43mExternalRiskEstimate(외부 신용점수 추정치): \u001b[39;49m\u001b[38;5;124;43m\"\u001b[39;49m\u001b[43m)\u001b[49m\u001b[43m)\u001b[49m)\n\u001b[1;32m      5\u001b[0m data_\u001b[38;5;241m.\u001b[39mappend(\u001b[38;5;28mint\u001b[39m(\u001b[38;5;28minput\u001b[39m(\u001b[38;5;124m\"\u001b[39m\u001b[38;5;124mMSinceOldestTradeOpen(가장 오래된 거래가 열린 이후 경과한 개월 수): \u001b[39m\u001b[38;5;124m\"\u001b[39m)))\n\u001b[1;32m      6\u001b[0m data_\u001b[38;5;241m.\u001b[39mappend(\u001b[38;5;28mint\u001b[39m(\u001b[38;5;28minput\u001b[39m(\u001b[38;5;124m\"\u001b[39m\u001b[38;5;124mMSinceMostRecentTradeOpen(최근 거래가 열린 이후 경과한 개월 수): \u001b[39m\u001b[38;5;124m\"\u001b[39m)))\n",
            "\u001b[0;31mValueError\u001b[0m: invalid literal for int() with base 10: ''"
          ]
        }
      ],
      "source": [
        "print(\"순서대로 값을 입력해주세요\")\n",
        "data_ = []\n",
        "\n",
        "data_.append(int(input(\"ExternalRiskEstimate(외부 신용점수 추정치): \")))\n",
        "data_.append(int(input(\"MSinceOldestTradeOpen(가장 오래된 거래가 열린 이후 경과한 개월 수): \")))\n",
        "data_.append(int(input(\"MSinceMostRecentTradeOpen(최근 거래가 열린 이후 경과한 개월 수): \")))\n",
        "data_.append(int(input(\"AverageMInFile(신용 기록 파일 내 평균 월수): \")))\n",
        "data_.append(int(input(\"NumSatisfactoryTrades(만족스러운 거래 수): \")))\n",
        "data_.append(int(input(\"NumTrades60Ever2DerogPubRec(60일 이상 연체 또는 부정적 공공 기록이 있는 거래 수): \")))\n",
        "data_.append(int(input(\"NumTrades90Ever2DerogPubRec(90일 이상 연체된 거래 수): \")))\n",
        "data_.append(int(input(\"PercentTradesNeverDelq(연체되지 않은 거래의 비율): \")))\n",
        "data_.append(int(input(\"MSinceMostRecentDelq(최근 연체 이후 경과한 개월 수): \")))\n",
        "data_.append(int(input(\"MaxDelq2PublicRecLast12M(지난 12개월 동안의 공공 기록에서 가장 큰 연체 기록): \")))\n",
        "data_.append(int(input(\"MaxDelqEver(최대 연체 기록): \")))\n",
        "data_.append(int(input(\"NumTotalTrades(전체 거래 수): \")))\n",
        "data_.append(int(input(\"NumTradesOpeninLast12M(최근 12개월 동안 개설된 거래 수): \")))\n",
        "data_.append(int(input(\"PercentInstallTrades(할부 거래 비율): \")))\n",
        "data_.append(int(input(\"MSinceMostRecentInqexcl7days(최근 7일 제외, 신용 조회 이후 경과한 개월 수): \")))\n",
        "data_.append(int(input(\"NumInqLast6M(지난 6개월 동안 신용 조회 수): \")))\n",
        "data_.append(int(input(\"NumInqLast6Mexcl7days(지난 6개월 동안 신용 조회 수, 최근 7일 제외): \")))\n",
        "data_.append(int(input(\"NetFractionRevolvingBurden(순회전 부채 부담 비율): \")))\n",
        "data_.append(int(input(\"NetFractionInstallBurden(할부 부채 부담 비율): \")))\n",
        "data_.append(int(input(\"NumRevolvingTradesWBalance(잔액이 있는 회전 신용 거래 수): \")))\n",
        "data_.append(int(input(\"NumInstallTradesWBalance(잔액이 있는 할부 신용 거래 수): \")))\n",
        "data_.append(int(input(\"NumBank2NatlTradesWHighUtilization(높은 사용 비율을 보이는 거래 수): \")))\n",
        "data_.append(int(input(\"PercentTradesWBalance(잔액이 있는 거래 비율): \")))\n",
        "\n",
        "print(data_)\n"
      ]
    },
    {
      "cell_type": "code",
      "execution_count": 11,
      "metadata": {
        "id": "cgivOlYNLxyP"
      },
      "outputs": [],
      "source": [
        "new_data = pd.DataFrame({\n",
        "    'ExternalRiskEstimate': [data_[0]],\n",
        "    'MSinceOldestTradeOpen': [data_[1]],\n",
        "    'MSinceMostRecentTradeOpen': [data_[2]],\n",
        "    'AverageMInFile': [data_[3]],\n",
        "    'NumSatisfactoryTrades': [data_[4]],\n",
        "    'NumTrades60Ever2DerogPubRec': [data_[5]],\n",
        "    'NumTrades90Ever2DerogPubRec': [data_[6]],\n",
        "    'PercentTradesNeverDelq': [data_[7]],\n",
        "    'MSinceMostRecentDelq': [data_[8]],\n",
        "    'MaxDelq2PublicRecLast12M': [data_[9]],\n",
        "    'MaxDelqEver': [data_[10]],\n",
        "    'NumTotalTrades': [data_[11]],\n",
        "    'NumTradesOpeninLast12M': [data_[12]],\n",
        "    'PercentInstallTrades': [data_[13]],\n",
        "    'MSinceMostRecentInqexcl7days': [data_[14]],\n",
        "    'NumInqLast6M': [data_[15]],\n",
        "    'NumInqLast6Mexcl7days': [data_[16]],\n",
        "    'NetFractionRevolvingBurden': [data_[17]],\n",
        "    'NetFractionInstallBurden': [data_[18]],\n",
        "    'NumRevolvingTradesWBalance': [data_[19]],\n",
        "    'NumInstallTradesWBalance': [data_[20]],\n",
        "    'NumBank2NatlTradesWHighUtilization': [data_[21]],\n",
        "    'PercentTradesWBalance': [data_[22]],\n",
        "})"
      ]
    },
    {
      "cell_type": "code",
      "execution_count": null,
      "metadata": {
        "colab": {
          "base_uri": "https://localhost:8080/"
        },
        "id": "ZySQJ6fUarYa",
        "outputId": "83cc8678-8a64-4459-f611-6892a9c438ad"
      },
      "outputs": [],
      "source": [
        "dnew = xgb.DMatrix(new_data)\n",
        "\n",
        "y = bst.predict(dnew)\n",
        "print(f\"Predicted probability: {y[0]:.4%}\")\n",
        "\n",
        "prediction = \"\"\n",
        "if y[0] > 0.5:\n",
        "  prediction = \"Bad\"\n",
        "else:\n",
        "  prediction = \"Good\""
      ]
    },
    {
      "cell_type": "code",
      "execution_count": null,
      "metadata": {
        "colab": {
          "base_uri": "https://localhost:8080/",
          "height": 957
        },
        "id": "3btMPz7UcPEW",
        "outputId": "839650e7-2efb-4f75-dd73-01fe30c51733"
      },
      "outputs": [],
      "source": [
        "# SHAP 분석 추가\n",
        "explainer = shap.TreeExplainer(bst)\n",
        "shap_values = explainer.shap_values(new_data)\n",
        "\n",
        "# SHAP 요약 플롯 (훈련 데이터에 대한 변수 중요도 시각화)\n",
        "shap.summary_plot(shap_values, new_data)"
      ]
    },
    {
      "cell_type": "code",
      "execution_count": null,
      "metadata": {
        "colab": {
          "base_uri": "https://localhost:8080/",
          "height": 331
        },
        "id": "lskvFjF2cnTM",
        "outputId": "4d39b030-d937-4818-c89e-9dceabd6125e"
      },
      "outputs": [],
      "source": [
        "# XGBoost의 예측을 확률로 반환하도록 하는 래핑된 함수\n",
        "def predict_fn_for_lime(input_data):\n",
        "    dmatrix_data = xgb.DMatrix(input_data, feature_names=list(x_train.columns))\n",
        "    # 확률 값으로 반환하여 LIME에서 사용 가능하게 함\n",
        "    probas = bst.predict(dmatrix_data)  # 확률 값 반환\n",
        "    return np.column_stack([1 - probas, probas])  # LIME은 클래스별 확률을 받으므로 [1-p, p] 형식으로 반환\n",
        "\n",
        "# LIME 분석 추가\n",
        "lime_explainer = lime.lime_tabular.LimeTabularExplainer(x_train.values,\n",
        "                                                        feature_names=list(x_train.columns),\n",
        "                                                        class_names=['Good', 'Bad'],\n",
        "                                                        discretize_continuous=True)\n",
        "\n",
        "# 테스트 데이터에서 예측한 첫 번째 샘플에 대해 LIME 해석 수행\n",
        "i = 0  # 분석할 데이터 포인트의 인덱스\n",
        "lime_exp = lime_explainer.explain_instance(new_data.iloc[i].values, predict_fn_for_lime, num_features=10)\n",
        "lime_exp.show_in_notebook()\n"
      ]
    },
    {
      "cell_type": "code",
      "execution_count": null,
      "metadata": {
        "colab": {
          "base_uri": "https://localhost:8080/",
          "height": 485
        },
        "id": "TADuCM-Lc_L2",
        "outputId": "db1b9303-bfff-4564-dda3-b6f11e97671d"
      },
      "outputs": [],
      "source": [
        "# LIME 중요도 출력\n",
        "lime_importance = pd.DataFrame(lime_exp.as_list(), columns=['Feature', 'LIME Importance'])\n",
        "print(\"\\n--- LIME 중요도 ---\")\n",
        "print(lime_importance)\n",
        "\n",
        "# SHAP 해석 (테스트 데이터 첫 번째 샘플)\n",
        "shap_values_test = explainer.shap_values(new_data.iloc[0:1])\n",
        "shap.initjs()\n",
        "shap.force_plot(explainer.expected_value, shap_values_test[0], new_data.iloc[0:1])\n",
        "\n",
        "# SHAP 중요도 출력\n",
        "shap_importance = pd.DataFrame({'Feature': new_data.columns, 'SHAP Importance': np.abs(shap_values_test[0])})\n",
        "shap_importance = shap_importance.sort_values(by='SHAP Importance', ascending=False).head(10)\n",
        "print(\"\\n--- SHAP 중요도 ---\")\n",
        "print(shap_importance)"
      ]
    },
    {
      "cell_type": "markdown",
      "metadata": {
        "id": "jA5VCcDzjzY0"
      },
      "source": [
        "Make input for gemma"
      ]
    },
    {
      "cell_type": "code",
      "execution_count": 16,
      "metadata": {
        "id": "0M3wlgXjjvNN"
      },
      "outputs": [],
      "source": [
        "gemma_input = \"Question:\\nWe have performed binary classification using the HELOC (Home Equity Line of Credit) Dataset and XGBClassifier to predict whether a customer will be 'Good' or 'Bad' in terms of credit risk. A 'Bad' classification means the customer was 90 days or more past due at least once within 24 months of opening their credit account, while a 'Good' classification means they never exceeded 90 days overdue during this period.\\n\"\n",
        "predict_input = \"The model has predicted that this customer falls into the \" + prediction + \"category, with the following prediction probability:\\n\" + \"- Good:\" + str(1 - y[0]) + \"\\n\" + \"- Bad:\" + str(y[0]) + \"\\n\"\n",
        "\n",
        "\n",
        "predict_input += \"In order to better understand this prediction, please explain the contributions of individual features based on two different explainability methods: SHAP and LIME. Follow the steps below to provide a thorough, yet easy-to-understand explanation.\\n\"\n",
        "predict_input += \"\"\"\\n### Steps:\\n1. **SHAP Analysis**: Explain the SHAP values for each key feature. For each feature, describe how it influenced the model’s prediction (either positively or negatively) and by how much.\\n2. **LIME Analysis**: Provide an analysis of the LIME results. Explain how each feature influenced the prediction according to LIME, focusing on the thresholds and how they shaped the prediction.\\n3. **Comparison and Synthesis**: Compare the insights from SHAP and LIME analyses. Discuss any similarities or differences between the two methods, and provide a synthesized explanation of how these key features collectively influenced the final prediction.\\n4. **Final Explanation for Non-Experts**: Summarize the key insights from the analyses in plain language. Avoid technical jargon, and focus on making the explanation simple and clear for someone without a background in machine learning or finance.\\n\\n### Context:\\n**Prediction Details:**\\n\"\"\"\n",
        "predict_input += \"\"\"- Predicted to \"\"\" + prediction"
      ]
    },
    {
      "cell_type": "code",
      "execution_count": 17,
      "metadata": {
        "id": "Ulz1_k_-dKzd"
      },
      "outputs": [],
      "source": [
        "lime_vals = lime_exp.as_list()\n",
        "lime_input = \"**LIME Analysis (Feature, LIME Importance):**\\n\"\n",
        "for data, vals in lime_vals:\n",
        "  lime_input += \"- \" + str(data) + \": \" + str(vals) + \"\\n\""
      ]
    },
    {
      "cell_type": "code",
      "execution_count": 18,
      "metadata": {
        "id": "ORbKjXYvdXzm"
      },
      "outputs": [],
      "source": [
        "shap_input = \"**SHAP Analysis (Feature, SHAP Importance):**\\n\"\n",
        "feature_list = shap_importance['Feature'].tolist()\n",
        "importance_list = shap_importance['SHAP Importance'].tolist()\n",
        "\n",
        "\n",
        "for i in range(len(feature_list)):\n",
        "  shap_input += \"- \" + str(feature_list[i]) + \": \" + str(importance_list[i]) + \"\\n\""
      ]
    },
    {
      "cell_type": "code",
      "execution_count": 19,
      "metadata": {
        "id": "J27yDlE6eWyH"
      },
      "outputs": [],
      "source": [
        "last_input = \"\"\"Answer:\\n1. **SHAP Analysis**: Break down each feature's SHAP importance, and explain how the model used these features to influence the final prediction.\\n2. **LIME Analysis**: Provide a detailed explanation of LIME feature importance, discussing how thresholds and feature values contributed to the model’s decision.\\n3. **Comparison**: Highlight the similarities and differences between SHAP and LIME, focusing on how they each interpret the importance of features differently.\\n4. **Non-Technical Summary**: Explain the prediction in a way that is easy for a non-expert to understand, avoiding technical terms where possible.\\n\"\"\""
      ]
    },
    {
      "cell_type": "code",
      "execution_count": null,
      "metadata": {
        "colab": {
          "base_uri": "https://localhost:8080/"
        },
        "id": "fAY3vRR4hUmH",
        "outputId": "c55b7bbb-b110-48f6-c504-4e3338303ac7"
      },
      "outputs": [],
      "source": [
        "gemma_input += predict_input + \"\\n\" + shap_input + \"\\n\" + lime_input + \"\\n\" + last_input\n",
        "\n",
        "print(gemma_input)"
      ]
    },
    {
      "cell_type": "markdown",
      "metadata": {
        "id": "3OweEbCjhnmH"
      },
      "source": [
        "Load Gemma"
      ]
    },
    {
      "cell_type": "code",
      "execution_count": null,
      "metadata": {
        "colab": {
          "base_uri": "https://localhost:8080/"
        },
        "id": "NTaBnWKFhpNA",
        "outputId": "6870fc50-f41c-4831-93c9-8defc638ac99"
      },
      "outputs": [],
      "source": [
        "from huggingface_hub import login\n",
        "import inspect\n",
        "\n",
        "token = input(\"Enter your Huggingface token for Gemma2 9b:\")\n",
        "login(token)"
      ]
    },
    {
      "cell_type": "code",
      "execution_count": null,
      "metadata": {
        "colab": {
          "base_uri": "https://localhost:8080/"
        },
        "id": "MLNOqSFMiBXo",
        "outputId": "2c05f2ed-57fc-426e-a479-7f52fb11e693"
      },
      "outputs": [],
      "source": [
        "!pip install -U bitsandbytes"
      ]
    },
    {
      "cell_type": "code",
      "execution_count": null,
      "metadata": {
        "colab": {
          "base_uri": "https://localhost:8080/",
          "height": 66,
          "referenced_widgets": [
            "a037161d1b8e410da2c7a0209d9ac2bc",
            "358ef474c0324b25a1280f7174090fac",
            "ea7a43f36c2e4ae2920d9c115adadb15",
            "559cb5e9522d480fbbf63c1f16d54cbe",
            "85e2340be4b64323a28efc21f50bea9e",
            "e446eac5b31e470d834b644ec5454953",
            "2ce374f3087b4c2f8b6da2b03dc81829",
            "709fdd49d5694daf88e9b243ce3a6016",
            "c7d6691734624adea5248c877b7bf29f",
            "94e43498cd7f448ca5cdb927ae8bc953",
            "e35d0fc504f24efe9633f930e473ee5d"
          ]
        },
        "id": "yC7jERcXhucZ",
        "outputId": "130e08b5-6429-4794-efae-3319bc0b4e8c"
      },
      "outputs": [],
      "source": [
        "# pip install accelerate\n",
        "from transformers import AutoTokenizer, AutoModelForCausalLM, BitsAndBytesConfig\n",
        "import torch\n",
        "\n",
        "quantization_config = BitsAndBytesConfig(load_in_8bit=True)\n",
        "\n",
        "tokenizer = AutoTokenizer.from_pretrained(\"google/gemma-2-9b-it\")\n",
        "model = AutoModelForCausalLM.from_pretrained(\n",
        "    \"google/gemma-2-9b-it\",\n",
        "    #device_map=\"auto\",\n",
        "    #torch_dtype=torch.bfloat16,\n",
        "    quantization_config=quantization_config,\n",
        ")\n",
        "device = torch.device(\"cuda:0\")"
      ]
    },
    {
      "cell_type": "code",
      "execution_count": 33,
      "metadata": {
        "id": "f23RAV7rh6NG"
      },
      "outputs": [],
      "source": [
        "def generate_response(prompt):\n",
        "    inputs = tokenizer(prompt, return_tensors=\"pt\").to(device)\n",
        "    output = model.generate(inputs[\"input_ids\"], max_length=10000, num_return_sequences=1)\n",
        "    response = tokenizer.decode(output[0], skip_special_tokens=True)\n",
        "    return response"
      ]
    },
    {
      "cell_type": "code",
      "execution_count": 34,
      "metadata": {
        "id": "R5J9MExDilhj"
      },
      "outputs": [],
      "source": [
        "gemma_response = generate_response(gemma_input)"
      ]
    },
    {
      "cell_type": "code",
      "execution_count": null,
      "metadata": {
        "colab": {
          "base_uri": "https://localhost:8080/"
        },
        "id": "F4Y5N-5SjMEA",
        "outputId": "90ff0618-dad5-45b9-8287-02baccba9e0e"
      },
      "outputs": [],
      "source": [
        "print(f\"Gemma: {gemma_response}\")"
      ]
    },
    {
      "cell_type": "code",
      "execution_count": null,
      "metadata": {
        "id": "VWKXDsobmMfH"
      },
      "outputs": [],
      "source": []
    }
  ],
  "metadata": {
    "accelerator": "GPU",
    "colab": {
      "gpuType": "A100",
      "machine_shape": "hm",
      "provenance": []
    },
    "kernelspec": {
      "display_name": "Python 3",
      "name": "python3"
    },
    "language_info": {
      "codemirror_mode": {
        "name": "ipython",
        "version": 3
      },
      "file_extension": ".py",
      "mimetype": "text/x-python",
      "name": "python",
      "nbconvert_exporter": "python",
      "pygments_lexer": "ipython3",
      "version": "3.11.9"
    },
    "widgets": {
      "application/vnd.jupyter.widget-state+json": {
        "2ce374f3087b4c2f8b6da2b03dc81829": {
          "model_module": "@jupyter-widgets/controls",
          "model_module_version": "1.5.0",
          "model_name": "DescriptionStyleModel",
          "state": {
            "_model_module": "@jupyter-widgets/controls",
            "_model_module_version": "1.5.0",
            "_model_name": "DescriptionStyleModel",
            "_view_count": null,
            "_view_module": "@jupyter-widgets/base",
            "_view_module_version": "1.2.0",
            "_view_name": "StyleView",
            "description_width": ""
          }
        },
        "358ef474c0324b25a1280f7174090fac": {
          "model_module": "@jupyter-widgets/controls",
          "model_module_version": "1.5.0",
          "model_name": "HTMLModel",
          "state": {
            "_dom_classes": [],
            "_model_module": "@jupyter-widgets/controls",
            "_model_module_version": "1.5.0",
            "_model_name": "HTMLModel",
            "_view_count": null,
            "_view_module": "@jupyter-widgets/controls",
            "_view_module_version": "1.5.0",
            "_view_name": "HTMLView",
            "description": "",
            "description_tooltip": null,
            "layout": "IPY_MODEL_e446eac5b31e470d834b644ec5454953",
            "placeholder": "​",
            "style": "IPY_MODEL_2ce374f3087b4c2f8b6da2b03dc81829",
            "value": "Loading checkpoint shards: 100%"
          }
        },
        "559cb5e9522d480fbbf63c1f16d54cbe": {
          "model_module": "@jupyter-widgets/controls",
          "model_module_version": "1.5.0",
          "model_name": "HTMLModel",
          "state": {
            "_dom_classes": [],
            "_model_module": "@jupyter-widgets/controls",
            "_model_module_version": "1.5.0",
            "_model_name": "HTMLModel",
            "_view_count": null,
            "_view_module": "@jupyter-widgets/controls",
            "_view_module_version": "1.5.0",
            "_view_name": "HTMLView",
            "description": "",
            "description_tooltip": null,
            "layout": "IPY_MODEL_94e43498cd7f448ca5cdb927ae8bc953",
            "placeholder": "​",
            "style": "IPY_MODEL_e35d0fc504f24efe9633f930e473ee5d",
            "value": " 4/4 [00:11&lt;00:00,  2.72s/it]"
          }
        },
        "709fdd49d5694daf88e9b243ce3a6016": {
          "model_module": "@jupyter-widgets/base",
          "model_module_version": "1.2.0",
          "model_name": "LayoutModel",
          "state": {
            "_model_module": "@jupyter-widgets/base",
            "_model_module_version": "1.2.0",
            "_model_name": "LayoutModel",
            "_view_count": null,
            "_view_module": "@jupyter-widgets/base",
            "_view_module_version": "1.2.0",
            "_view_name": "LayoutView",
            "align_content": null,
            "align_items": null,
            "align_self": null,
            "border": null,
            "bottom": null,
            "display": null,
            "flex": null,
            "flex_flow": null,
            "grid_area": null,
            "grid_auto_columns": null,
            "grid_auto_flow": null,
            "grid_auto_rows": null,
            "grid_column": null,
            "grid_gap": null,
            "grid_row": null,
            "grid_template_areas": null,
            "grid_template_columns": null,
            "grid_template_rows": null,
            "height": null,
            "justify_content": null,
            "justify_items": null,
            "left": null,
            "margin": null,
            "max_height": null,
            "max_width": null,
            "min_height": null,
            "min_width": null,
            "object_fit": null,
            "object_position": null,
            "order": null,
            "overflow": null,
            "overflow_x": null,
            "overflow_y": null,
            "padding": null,
            "right": null,
            "top": null,
            "visibility": null,
            "width": null
          }
        },
        "85e2340be4b64323a28efc21f50bea9e": {
          "model_module": "@jupyter-widgets/base",
          "model_module_version": "1.2.0",
          "model_name": "LayoutModel",
          "state": {
            "_model_module": "@jupyter-widgets/base",
            "_model_module_version": "1.2.0",
            "_model_name": "LayoutModel",
            "_view_count": null,
            "_view_module": "@jupyter-widgets/base",
            "_view_module_version": "1.2.0",
            "_view_name": "LayoutView",
            "align_content": null,
            "align_items": null,
            "align_self": null,
            "border": null,
            "bottom": null,
            "display": null,
            "flex": null,
            "flex_flow": null,
            "grid_area": null,
            "grid_auto_columns": null,
            "grid_auto_flow": null,
            "grid_auto_rows": null,
            "grid_column": null,
            "grid_gap": null,
            "grid_row": null,
            "grid_template_areas": null,
            "grid_template_columns": null,
            "grid_template_rows": null,
            "height": null,
            "justify_content": null,
            "justify_items": null,
            "left": null,
            "margin": null,
            "max_height": null,
            "max_width": null,
            "min_height": null,
            "min_width": null,
            "object_fit": null,
            "object_position": null,
            "order": null,
            "overflow": null,
            "overflow_x": null,
            "overflow_y": null,
            "padding": null,
            "right": null,
            "top": null,
            "visibility": null,
            "width": null
          }
        },
        "94e43498cd7f448ca5cdb927ae8bc953": {
          "model_module": "@jupyter-widgets/base",
          "model_module_version": "1.2.0",
          "model_name": "LayoutModel",
          "state": {
            "_model_module": "@jupyter-widgets/base",
            "_model_module_version": "1.2.0",
            "_model_name": "LayoutModel",
            "_view_count": null,
            "_view_module": "@jupyter-widgets/base",
            "_view_module_version": "1.2.0",
            "_view_name": "LayoutView",
            "align_content": null,
            "align_items": null,
            "align_self": null,
            "border": null,
            "bottom": null,
            "display": null,
            "flex": null,
            "flex_flow": null,
            "grid_area": null,
            "grid_auto_columns": null,
            "grid_auto_flow": null,
            "grid_auto_rows": null,
            "grid_column": null,
            "grid_gap": null,
            "grid_row": null,
            "grid_template_areas": null,
            "grid_template_columns": null,
            "grid_template_rows": null,
            "height": null,
            "justify_content": null,
            "justify_items": null,
            "left": null,
            "margin": null,
            "max_height": null,
            "max_width": null,
            "min_height": null,
            "min_width": null,
            "object_fit": null,
            "object_position": null,
            "order": null,
            "overflow": null,
            "overflow_x": null,
            "overflow_y": null,
            "padding": null,
            "right": null,
            "top": null,
            "visibility": null,
            "width": null
          }
        },
        "a037161d1b8e410da2c7a0209d9ac2bc": {
          "model_module": "@jupyter-widgets/controls",
          "model_module_version": "1.5.0",
          "model_name": "HBoxModel",
          "state": {
            "_dom_classes": [],
            "_model_module": "@jupyter-widgets/controls",
            "_model_module_version": "1.5.0",
            "_model_name": "HBoxModel",
            "_view_count": null,
            "_view_module": "@jupyter-widgets/controls",
            "_view_module_version": "1.5.0",
            "_view_name": "HBoxView",
            "box_style": "",
            "children": [
              "IPY_MODEL_358ef474c0324b25a1280f7174090fac",
              "IPY_MODEL_ea7a43f36c2e4ae2920d9c115adadb15",
              "IPY_MODEL_559cb5e9522d480fbbf63c1f16d54cbe"
            ],
            "layout": "IPY_MODEL_85e2340be4b64323a28efc21f50bea9e"
          }
        },
        "c7d6691734624adea5248c877b7bf29f": {
          "model_module": "@jupyter-widgets/controls",
          "model_module_version": "1.5.0",
          "model_name": "ProgressStyleModel",
          "state": {
            "_model_module": "@jupyter-widgets/controls",
            "_model_module_version": "1.5.0",
            "_model_name": "ProgressStyleModel",
            "_view_count": null,
            "_view_module": "@jupyter-widgets/base",
            "_view_module_version": "1.2.0",
            "_view_name": "StyleView",
            "bar_color": null,
            "description_width": ""
          }
        },
        "e35d0fc504f24efe9633f930e473ee5d": {
          "model_module": "@jupyter-widgets/controls",
          "model_module_version": "1.5.0",
          "model_name": "DescriptionStyleModel",
          "state": {
            "_model_module": "@jupyter-widgets/controls",
            "_model_module_version": "1.5.0",
            "_model_name": "DescriptionStyleModel",
            "_view_count": null,
            "_view_module": "@jupyter-widgets/base",
            "_view_module_version": "1.2.0",
            "_view_name": "StyleView",
            "description_width": ""
          }
        },
        "e446eac5b31e470d834b644ec5454953": {
          "model_module": "@jupyter-widgets/base",
          "model_module_version": "1.2.0",
          "model_name": "LayoutModel",
          "state": {
            "_model_module": "@jupyter-widgets/base",
            "_model_module_version": "1.2.0",
            "_model_name": "LayoutModel",
            "_view_count": null,
            "_view_module": "@jupyter-widgets/base",
            "_view_module_version": "1.2.0",
            "_view_name": "LayoutView",
            "align_content": null,
            "align_items": null,
            "align_self": null,
            "border": null,
            "bottom": null,
            "display": null,
            "flex": null,
            "flex_flow": null,
            "grid_area": null,
            "grid_auto_columns": null,
            "grid_auto_flow": null,
            "grid_auto_rows": null,
            "grid_column": null,
            "grid_gap": null,
            "grid_row": null,
            "grid_template_areas": null,
            "grid_template_columns": null,
            "grid_template_rows": null,
            "height": null,
            "justify_content": null,
            "justify_items": null,
            "left": null,
            "margin": null,
            "max_height": null,
            "max_width": null,
            "min_height": null,
            "min_width": null,
            "object_fit": null,
            "object_position": null,
            "order": null,
            "overflow": null,
            "overflow_x": null,
            "overflow_y": null,
            "padding": null,
            "right": null,
            "top": null,
            "visibility": null,
            "width": null
          }
        },
        "ea7a43f36c2e4ae2920d9c115adadb15": {
          "model_module": "@jupyter-widgets/controls",
          "model_module_version": "1.5.0",
          "model_name": "FloatProgressModel",
          "state": {
            "_dom_classes": [],
            "_model_module": "@jupyter-widgets/controls",
            "_model_module_version": "1.5.0",
            "_model_name": "FloatProgressModel",
            "_view_count": null,
            "_view_module": "@jupyter-widgets/controls",
            "_view_module_version": "1.5.0",
            "_view_name": "ProgressView",
            "bar_style": "success",
            "description": "",
            "description_tooltip": null,
            "layout": "IPY_MODEL_709fdd49d5694daf88e9b243ce3a6016",
            "max": 4,
            "min": 0,
            "orientation": "horizontal",
            "style": "IPY_MODEL_c7d6691734624adea5248c877b7bf29f",
            "value": 4
          }
        }
      }
    }
  },
  "nbformat": 4,
  "nbformat_minor": 0
}
